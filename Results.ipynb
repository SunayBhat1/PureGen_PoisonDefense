{
 "cells": [
  {
   "cell_type": "markdown",
   "metadata": {},
   "source": [
    "# PureGEN Results \n",
    "\n",
    "### Example Processing of Results CSV's"
   ]
  },
  {
   "cell_type": "code",
   "execution_count": 22,
   "metadata": {},
   "outputs": [],
   "source": [
    "import pandas as pd\n",
    "import json\n",
    "import numpy as np\n",
    "import os\n",
    "\n",
    "results_folder = <PATH_TO_RESULTS_FOLDER>"
   ]
  },
  {
   "cell_type": "markdown",
   "metadata": {},
   "source": [
    "## Narcissus From-Scratch"
   ]
  },
  {
   "cell_type": "code",
   "execution_count": 23,
   "metadata": {},
   "outputs": [
    {
     "data": {
      "text/html": [
       "<div>\n",
       "<style scoped>\n",
       "    .dataframe tbody tr th:only-of-type {\n",
       "        vertical-align: middle;\n",
       "    }\n",
       "\n",
       "    .dataframe tbody tr th {\n",
       "        vertical-align: top;\n",
       "    }\n",
       "\n",
       "    .dataframe thead th {\n",
       "        text-align: right;\n",
       "    }\n",
       "</style>\n",
       "<table border=\"1\" class=\"dataframe\">\n",
       "  <thead>\n",
       "    <tr style=\"text-align: right;\">\n",
       "      <th></th>\n",
       "      <th>Poixson Success Str</th>\n",
       "      <th>Nat Acc Str</th>\n",
       "      <th>Max Poison Success Str</th>\n",
       "      <th>Num Results</th>\n",
       "    </tr>\n",
       "    <tr>\n",
       "      <th>Defense</th>\n",
       "      <th></th>\n",
       "      <th></th>\n",
       "      <th></th>\n",
       "      <th></th>\n",
       "    </tr>\n",
       "  </thead>\n",
       "  <tbody>\n",
       "    <tr>\n",
       "      <th>Baseline</th>\n",
       "      <td>30.09±35.24</td>\n",
       "      <td>92.93±0.13</td>\n",
       "      <td>90.41</td>\n",
       "      <td>10</td>\n",
       "    </tr>\n",
       "    <tr>\n",
       "      <th>DM_UNET[cifar10_DDPM[250]_nf[L]]_T[15]</th>\n",
       "      <td>2.66±2.11</td>\n",
       "      <td>92.60±0.20</td>\n",
       "      <td>6.38</td>\n",
       "      <td>10</td>\n",
       "    </tr>\n",
       "  </tbody>\n",
       "</table>\n",
       "</div>"
      ],
      "text/plain": [
       "                                       Poixson Success Str Nat Acc Str   \n",
       "Defense                                                                  \n",
       "Baseline                                       30.09±35.24  92.93±0.13  \\\n",
       "DM_UNET[cifar10_DDPM[250]_nf[L]]_T[15]           2.66±2.11  92.60±0.20   \n",
       "\n",
       "                                       Max Poison Success Str  Num Results  \n",
       "Defense                                                                     \n",
       "Baseline                                                90.41           10  \n",
       "DM_UNET[cifar10_DDPM[250]_nf[L]]_T[15]                   6.38           10  "
      ]
     },
     "execution_count": 23,
     "metadata": {},
     "output_type": "execute_result"
    }
   ],
   "source": [
    "file_path = os.path.join(results_folder, 'From_Scratch', 'Narcissus', 'Results.csv')\n",
    "df = pd.read_csv(file_path)\n",
    "df['Args'] = df['Args'].apply(lambda x: json.loads(x))\n",
    "df = pd.concat([df.drop(['Args'], axis=1), df['Args'].apply(pd.Series)], axis=1)\n",
    "\n",
    "DATASET = 'cifar10'\n",
    "MODEL = 'HLB_S' \n",
    "\n",
    "### Filter Data\n",
    "df = df[(df['dataset'] == DATASET) & (df['model'] == MODEL)]\n",
    "\n",
    "df_results = []\n",
    "for data_key in df['Data Key'].unique():\n",
    "\n",
    "    df_filt = df[df['Data Key'] == data_key]\n",
    "\n",
    "    df_results.append({'Defense': data_key,\n",
    "                       'Poixson Success Str': f\"{df_filt['P1 Acc'].mean()*100:.2f}\\u00B1{df_filt['P1 Acc'].std()*100:.2f}\",\n",
    "                        # 'Nat Acc': df_filt['End Ac c'].mean(),\n",
    "                        'Nat Acc Str': f\"{df_filt['End Acc'].mean()*100:.2f}\\u00B1{df_filt['End Acc'].std()*100:.2f}\",\n",
    "                        # 'Poison Success': df_filt['P1 Acc'].mean(),\n",
    "                        # 'Max Poison Success': df_filt['P1 Acc'].max(),\n",
    "                        'Max Poison Success Str': f\"{df_filt['P1 Acc'].max()*100:.2f}\",\n",
    "                        'Num Results': len(df_filt),\n",
    "                    })\n",
    "\n",
    "df_results = pd.DataFrame(df_results)\n",
    "df_results.set_index('Defense')"
   ]
  },
  {
   "cell_type": "markdown",
   "metadata": {},
   "source": [
    "## Gradient Matching From-Scratch"
   ]
  },
  {
   "cell_type": "code",
   "execution_count": 24,
   "metadata": {},
   "outputs": [
    {
     "data": {
      "text/html": [
       "<div>\n",
       "<style scoped>\n",
       "    .dataframe tbody tr th:only-of-type {\n",
       "        vertical-align: middle;\n",
       "    }\n",
       "\n",
       "    .dataframe tbody tr th {\n",
       "        vertical-align: top;\n",
       "    }\n",
       "\n",
       "    .dataframe thead th {\n",
       "        text-align: right;\n",
       "    }\n",
       "</style>\n",
       "<table border=\"1\" class=\"dataframe\">\n",
       "  <thead>\n",
       "    <tr style=\"text-align: right;\">\n",
       "      <th></th>\n",
       "      <th>Poison Success</th>\n",
       "      <th>Nat Acc Str</th>\n",
       "      <th>Num Results</th>\n",
       "    </tr>\n",
       "    <tr>\n",
       "      <th>Defense</th>\n",
       "      <th></th>\n",
       "      <th></th>\n",
       "      <th></th>\n",
       "    </tr>\n",
       "  </thead>\n",
       "  <tbody>\n",
       "    <tr>\n",
       "      <th>Baseline</th>\n",
       "      <td>5.00</td>\n",
       "      <td>92.95±0.17</td>\n",
       "      <td>100</td>\n",
       "    </tr>\n",
       "  </tbody>\n",
       "</table>\n",
       "</div>"
      ],
      "text/plain": [
       "         Poison Success Nat Acc Str  Num Results\n",
       "Defense                                         \n",
       "Baseline           5.00  92.95±0.17          100"
      ]
     },
     "execution_count": 24,
     "metadata": {},
     "output_type": "execute_result"
    }
   ],
   "source": [
    "file_path = os.path.join(results_folder, 'From_Scratch', 'Gradientmatching', 'Results.csv')\n",
    "df = pd.read_csv(file_path)\n",
    "df['Args'] = df['Args'].apply(lambda x: json.loads(x))\n",
    "df = pd.concat([df.drop(['Args'], axis=1), df['Args'].apply(pd.Series)], axis=1)\n",
    "\n",
    "DATASET = 'cifar10'\n",
    "MODEL = 'HLB_S' # Use ResNet18 for GM From Scratch \n",
    "\n",
    "### Filter Data\n",
    "df = df[(df['dataset'] == DATASET) & (df['model'] == MODEL)]\n",
    "\n",
    "df_results = []\n",
    "for data_key in df['Data Key'].unique():\n",
    "\n",
    "    df_filt = df[df['Data Key'] == data_key]\n",
    "\n",
    "    df_results.append({'Defense': data_key,\n",
    "                       'Poison Success': f\"{df_filt['Success'].sum():.2f}\",\n",
    "                        'Nat Acc Str': f\"{df_filt['End Acc'].mean()*100:.2f}\\u00B1{df_filt['End Acc'].std()*100:.2f}\",\n",
    "                        'Num Results': len(df_filt),\n",
    "                    })\n",
    "\n",
    "df_results = pd.DataFrame(df_results)\n",
    "df_results.set_index('Defense')"
   ]
  },
  {
   "cell_type": "markdown",
   "metadata": {},
   "source": [
    "## Bullseye Polytope Linear Transfer"
   ]
  },
  {
   "cell_type": "code",
   "execution_count": 25,
   "metadata": {},
   "outputs": [
    {
     "data": {
      "text/html": [
       "<div>\n",
       "<style scoped>\n",
       "    .dataframe tbody tr th:only-of-type {\n",
       "        vertical-align: middle;\n",
       "    }\n",
       "\n",
       "    .dataframe tbody tr th {\n",
       "        vertical-align: top;\n",
       "    }\n",
       "\n",
       "    .dataframe thead th {\n",
       "        text-align: right;\n",
       "    }\n",
       "</style>\n",
       "<table border=\"1\" class=\"dataframe\">\n",
       "  <thead>\n",
       "    <tr style=\"text-align: right;\">\n",
       "      <th></th>\n",
       "      <th>Poison Success</th>\n",
       "      <th>Nat Acc Str</th>\n",
       "      <th>Num Results</th>\n",
       "    </tr>\n",
       "    <tr>\n",
       "      <th>Defense</th>\n",
       "      <th></th>\n",
       "      <th></th>\n",
       "      <th></th>\n",
       "    </tr>\n",
       "  </thead>\n",
       "  <tbody>\n",
       "    <tr>\n",
       "      <th>Baseline</th>\n",
       "      <td>44.00</td>\n",
       "      <td>83.14±2.00</td>\n",
       "      <td>48</td>\n",
       "    </tr>\n",
       "  </tbody>\n",
       "</table>\n",
       "</div>"
      ],
      "text/plain": [
       "         Poison Success Nat Acc Str  Num Results\n",
       "Defense                                         \n",
       "Baseline          44.00  83.14±2.00           48"
      ]
     },
     "execution_count": 25,
     "metadata": {},
     "output_type": "execute_result"
    }
   ],
   "source": [
    "file_path = os.path.join(results_folder, 'Linear_Transfer', 'Bullseyepolytope', 'Results.csv')\n",
    "df = pd.read_csv(file_path)\n",
    "df['Args'] = df['Args'].apply(lambda x: json.loads(x))\n",
    "df = pd.concat([df.drop(['Args'], axis=1), df['Args'].apply(pd.Series)], axis=1)\n",
    "\n",
    "DATASET = 'cifar10'\n",
    "MODEL = 'ResNet18'\n",
    "\n",
    "### Filter Data\n",
    "df = df[(df['dataset'] == DATASET) & (df['model'] == MODEL)]\n",
    "\n",
    "df_results = []\n",
    "for data_key in df['Data Key'].unique():\n",
    "\n",
    "    df_filt = df[df['Data Key'] == data_key]\n",
    "\n",
    "    df_results.append({'Defense': data_key,\n",
    "                       'Poison Success': f\"{df_filt['Success'].sum():.2f}\",\n",
    "                        'Nat Acc Str': f\"{df_filt['End Acc'].mean()*100:.2f}\\u00B1{df_filt['End Acc'].std()*100:.2f}\",\n",
    "                        'Num Results': len(df_filt),\n",
    "                    })\n",
    "\n",
    "df_results = pd.DataFrame(df_results)\n",
    "df_results.set_index('Defense')"
   ]
  }
 ],
 "metadata": {
  "kernelspec": {
   "display_name": "research",
   "language": "python",
   "name": "python3"
  },
  "language_info": {
   "codemirror_mode": {
    "name": "ipython",
    "version": 3
   },
   "file_extension": ".py",
   "mimetype": "text/x-python",
   "name": "python",
   "nbconvert_exporter": "python",
   "pygments_lexer": "ipython3",
   "version": "3.8.10"
  }
 },
 "nbformat": 4,
 "nbformat_minor": 2
}
